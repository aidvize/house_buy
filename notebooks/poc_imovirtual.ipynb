{
 "cells": [
  {
   "cell_type": "code",
   "execution_count": 4,
   "id": "5236b70c-952c-4414-a8e6-d0fe24705804",
   "metadata": {
    "tags": []
   },
   "outputs": [
    {
     "name": "stdout",
     "output_type": "stream",
     "text": [
      "Scraped 480 titles and 480 links.\n"
     ]
    }
   ],
   "source": [
    "import requests\n",
    "import time\n",
    "from bs4 import BeautifulSoup\n",
    "\n",
    "headers = {\n",
    "    \"User-Agent\": \"Mozilla/5.0 (Windows NT 10.0; Win64; x64) AppleWebKit/537.36 (KHTML, like Gecko) Chrome/107.0.0.0 Safari/537.36\"\n",
    "}\n",
    "\n",
    "max_pages = (\n",
    "    20  # Just a safety limit to prevent an infinite loop in case of unexpected webpage behavior\n",
    ")\n",
    "title = []\n",
    "links = []\n",
    "\n",
    "for num in range(1, max_pages + 1):\n",
    "    try:\n",
    "        page = requests.get(\n",
    "            f\"https://www.imovirtual.com/comprar/apartamento/?page={num}\", headers=headers\n",
    "        )\n",
    "        soup = BeautifulSoup(page.text, \"html.parser\")\n",
    "\n",
    "        span_tags = soup.find_all(\"span\", class_=\"offer-item-title\")\n",
    "\n",
    "        # Dynamic stop condition: No listings found on page\n",
    "        if not span_tags:\n",
    "            print(f\"No more results found at page {num}. Stopping.\")\n",
    "            break\n",
    "\n",
    "        for span_tag in span_tags:\n",
    "            title.append(span_tag.text.strip())\n",
    "            a_tag = span_tag.find_parent(\"a\")\n",
    "            if a_tag and a_tag.has_attr(\"href\"):\n",
    "                links.append(a_tag[\"href\"])\n",
    "\n",
    "        time.sleep(1)  # Respectful delay between requests\n",
    "\n",
    "    except requests.exceptions.RequestException as e:\n",
    "        print(f\"Request failed: {e}\")\n",
    "        break\n",
    "\n",
    "print(f\"Scraped {len(title)} titles and {len(links)} links.\")"
   ]
  },
  {
   "cell_type": "code",
   "execution_count": 5,
   "id": "dbe01cd4-cf61-4945-9e64-85bb8b384087",
   "metadata": {
    "tags": []
   },
   "outputs": [
    {
     "data": {
      "text/plain": [
       "(480, 480)"
      ]
     },
     "execution_count": 5,
     "metadata": {},
     "output_type": "execute_result"
    }
   ],
   "source": [
    "len(title), len(links)"
   ]
  },
  {
   "cell_type": "code",
   "execution_count": null,
   "id": "e230100b-0878-496c-b8ec-dcaf1c41b845",
   "metadata": {},
   "outputs": [],
   "source": []
  }
 ],
 "metadata": {
  "kernelspec": {
   "display_name": "Python 3 (ipykernel)",
   "language": "python",
   "name": "python3"
  },
  "language_info": {
   "codemirror_mode": {
    "name": "ipython",
    "version": 3
   },
   "file_extension": ".py",
   "mimetype": "text/x-python",
   "name": "python",
   "nbconvert_exporter": "python",
   "pygments_lexer": "ipython3",
   "version": "3.11.3"
  }
 },
 "nbformat": 4,
 "nbformat_minor": 5
}
