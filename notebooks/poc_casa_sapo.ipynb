{
 "cells": [
  {
   "cell_type": "code",
   "execution_count": 18,
   "id": "1f21bff7-b4ac-44f8-a01f-0a9e4a0a2247",
   "metadata": {
    "tags": []
   },
   "outputs": [],
   "source": [
    "import requests\n",
    "import time\n",
    "from bs4 import BeautifulSoup\n",
    "\n",
    "headers = {\n",
    "    \"User-Agent\": \"Mozilla/5.0 (Windows NT 10.0; Win64; x64) AppleWebKit/537.36\"\n",
    "    \" (KHTML, like Gecko) Chrome/107.0.0.0 Safari/537.36\"\n",
    "}\n",
    "\n",
    "title = []\n",
    "links = []\n",
    "\n",
    "\n",
    "def casa_sapo(url: str, max_pages: int) -> dict:\n",
    "    \"\"\"\n",
    "    Scrapes listing titles and links from Casa Sapo website for a specified number of pages.\n",
    "\n",
    "    This function navigates through the specified number of pages on the Casa Sapo website,\n",
    "    collecting titles and corresponding links for property listings. It applies a respectful\n",
    "    delay between requests to avoid overloading the server. If no more listings are found on\n",
    "    a page, the scraping stops early. Encountered errors during requests are caught and logged.\n",
    "\n",
    "    Parameters:\n",
    "    - url (str): The base URL to scrape, formatted to include pagination.\n",
    "    - max_pages (int): The maximum number of pages to scrape.\n",
    "\n",
    "    Returns:\n",
    "    - dict: A dictionary with listing titles as keys and corresponding links\n",
    "    \"\"\"\n",
    "\n",
    "    for num in range(1, max_pages + 1):\n",
    "        try:\n",
    "            page = requests.get(f\"{url}{num}\", headers=get_headers())\n",
    "            soup = BeautifulSoup(page.text, \"html.parser\")\n",
    "\n",
    "            span_tags = soup.find_all(\"div\", class_=\"property-type\")\n",
    "\n",
    "            # Dynamic stop condition: No listings found on page\n",
    "            if not span_tags:\n",
    "                break\n",
    "\n",
    "            for span_tag in span_tags:\n",
    "                title.append(span_tag.text.strip())\n",
    "                a_tag = span_tag.find_parent(\"a\")\n",
    "                if a_tag and a_tag.has_attr(\"href\"):\n",
    "                    links.append(a_tag[\"href\"][112:])\n",
    "\n",
    "            time.sleep(1)  # Respectful delay between requests\n",
    "\n",
    "        except requests.exceptions.RequestException as e:\n",
    "            print(f\"Request failed: {e}\")\n",
    "            break\n",
    "    data = {title: link for title, link in zip(title, links)}\n",
    "    return data"
   ]
  },
  {
   "cell_type": "code",
   "execution_count": null,
   "id": "aa02270a-66eb-4e4d-b435-169ee5d1ddd7",
   "metadata": {},
   "outputs": [],
   "source": []
  }
 ],
 "metadata": {
  "kernelspec": {
   "display_name": "Python 3 (ipykernel)",
   "language": "python",
   "name": "python3"
  },
  "language_info": {
   "codemirror_mode": {
    "name": "ipython",
    "version": 3
   },
   "file_extension": ".py",
   "mimetype": "text/x-python",
   "name": "python",
   "nbconvert_exporter": "python",
   "pygments_lexer": "ipython3",
   "version": "3.11.3"
  }
 },
 "nbformat": 4,
 "nbformat_minor": 5
}
